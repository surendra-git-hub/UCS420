{
 "cells": [
  {
   "cell_type": "code",
   "execution_count": null,
   "id": "b09a8ee3-154f-4538-84fe-4fda14d71fa5",
   "metadata": {},
   "outputs": [],
   "source": [
    "Q1"
   ]
  },
  {
   "cell_type": "code",
   "execution_count": 22,
   "id": "8a5e185f-3c5b-41f6-bf96-fea5d7e57158",
   "metadata": {},
   "outputs": [
    {
     "name": "stdout",
     "output_type": "stream",
     "text": [
      "[10, 20, 30, 40, 50, 60, 70, 80]\n",
      "[10, 20, 30, 40, 50, 60, 70, 80, 200, 300]\n",
      "[20, 40, 50, 60, 70, 80, 200, 300]\n",
      "[20, 40, 50, 60, 70, 80, 200, 300]\n",
      "[300, 200, 80, 70, 60, 50, 40, 20]\n"
     ]
    }
   ],
   "source": [
    "L=[10,20,30,40,50,60,70,80]\n",
    "print(L)\n",
    "L.append(200)\n",
    "L.append(300)\n",
    "print(L)\n",
    "L.remove(10)\n",
    "L.remove(30)\n",
    "print(L)\n",
    "L.sort()\n",
    "print(L)\n",
    "L.reverse()\n",
    "print(L)"
   ]
  },
  {
   "cell_type": "code",
   "execution_count": null,
   "id": "87310bd7-3794-4f0a-8d59-a772e2e20984",
   "metadata": {},
   "outputs": [],
   "source": [
    "Q2"
   ]
  },
  {
   "cell_type": "code",
   "execution_count": 3,
   "id": "49f769fd-f30d-4a7e-9a37-4cea2a456b80",
   "metadata": {},
   "outputs": [
    {
     "name": "stdout",
     "output_type": "stream",
     "text": [
      "92\n",
      "6\n",
      "4\n",
      "1\n",
      "[45, 58, 92, 89, 4, 45, 76, 89.5, 45]\n"
     ]
    },
    {
     "name": "stdin",
     "output_type": "stream",
     "text": [
      "enter the number ---> 76\n"
     ]
    },
    {
     "name": "stdout",
     "output_type": "stream",
     "text": [
      "is present at 2\n"
     ]
    }
   ],
   "source": [
    "marks=(45,89.5,76,45,4,89,92,58,45)\n",
    "print(max(marks))\n",
    "print(marks.index(max(marks)))\n",
    "print(min(marks))\n",
    "print(marks.count(min(marks)))\n",
    "lists=list(marks[::-1])\n",
    "print(lists)\n",
    "num=int(input(\"enter the number --->\"))\n",
    "if num in marks:\n",
    "    print(\"is present at\",marks.index(num))\n",
    "else:\n",
    "    print(\"not present\")"
   ]
  },
  {
   "cell_type": "code",
   "execution_count": null,
   "id": "22d0092a-4a2f-4f03-8b1c-84a9c3bd3065",
   "metadata": {},
   "outputs": [],
   "source": [
    "Q3"
   ]
  },
  {
   "cell_type": "code",
   "execution_count": 35,
   "id": "73d3ba31-9f18-40ff-af27-c455a5bf01ea",
   "metadata": {},
   "outputs": [
    {
     "name": "stdout",
     "output_type": "stream",
     "text": [
      "[436, 827, 789, 198, 120, 352, 374, 579, 694, 139, 661, 103, 741, 474, 893, 820, 174, 420, 721, 711, 226, 796, 412, 215, 879, 844, 773, 867, 407, 191, 280, 248, 337, 734, 519, 585, 782, 325, 140, 186, 109, 283, 895, 506, 254, 789, 363, 226, 746, 440, 576, 407, 387, 686, 748, 430, 349, 704, 228, 434, 521, 347, 678, 105, 585, 615, 809, 332, 648, 400, 560, 421, 780, 164, 167, 682, 826, 577, 685, 285, 200, 325, 456, 404, 897, 111, 207, 777, 175, 285, 581, 119, 545, 549, 493, 424, 490, 680, 473, 391]\n",
      "the odd numbers are :\n",
      "total odd numbers are 1 numbers are  827\n",
      "total odd numbers are 2 numbers are  789\n",
      "total odd numbers are 3 numbers are  579\n",
      "total odd numbers are 4 numbers are  139\n",
      "total odd numbers are 5 numbers are  661\n",
      "total odd numbers are 6 numbers are  103\n",
      "total odd numbers are 7 numbers are  741\n",
      "total odd numbers are 8 numbers are  893\n",
      "total odd numbers are 9 numbers are  721\n",
      "total odd numbers are 10 numbers are  711\n",
      "total odd numbers are 11 numbers are  215\n",
      "total odd numbers are 12 numbers are  879\n",
      "total odd numbers are 13 numbers are  773\n",
      "total odd numbers are 14 numbers are  867\n",
      "total odd numbers are 15 numbers are  407\n",
      "total odd numbers are 16 numbers are  191\n",
      "total odd numbers are 17 numbers are  337\n",
      "total odd numbers are 18 numbers are  519\n",
      "total odd numbers are 19 numbers are  585\n",
      "total odd numbers are 20 numbers are  325\n",
      "total odd numbers are 21 numbers are  109\n",
      "total odd numbers are 22 numbers are  283\n",
      "total odd numbers are 23 numbers are  895\n",
      "total odd numbers are 24 numbers are  789\n",
      "total odd numbers are 25 numbers are  363\n",
      "total odd numbers are 26 numbers are  407\n",
      "total odd numbers are 27 numbers are  387\n",
      "total odd numbers are 28 numbers are  349\n",
      "total odd numbers are 29 numbers are  521\n",
      "total odd numbers are 30 numbers are  347\n",
      "total odd numbers are 31 numbers are  105\n",
      "total odd numbers are 32 numbers are  585\n",
      "total odd numbers are 33 numbers are  615\n",
      "total odd numbers are 34 numbers are  809\n",
      "total odd numbers are 35 numbers are  421\n",
      "total odd numbers are 36 numbers are  167\n",
      "total odd numbers are 37 numbers are  577\n",
      "total odd numbers are 38 numbers are  685\n",
      "total odd numbers are 39 numbers are  285\n",
      "total odd numbers are 40 numbers are  325\n",
      "total odd numbers are 41 numbers are  897\n",
      "total odd numbers are 42 numbers are  111\n",
      "total odd numbers are 43 numbers are  207\n",
      "total odd numbers are 44 numbers are  777\n",
      "total odd numbers are 45 numbers are  175\n",
      "total odd numbers are 46 numbers are  285\n",
      "total odd numbers are 47 numbers are  581\n",
      "total odd numbers are 48 numbers are  119\n",
      "total odd numbers are 49 numbers are  545\n",
      "total odd numbers are 50 numbers are  549\n",
      "total odd numbers are 51 numbers are  493\n",
      "total odd numbers are 52 numbers are  473\n",
      "total odd numbers are 53 numbers are  391\n",
      "the even numbers are:\n",
      "total even numbers are 1 numbers are  436\n",
      "total even numbers are 2 numbers are  198\n",
      "total even numbers are 3 numbers are  120\n",
      "total even numbers are 4 numbers are  352\n",
      "total even numbers are 5 numbers are  374\n",
      "total even numbers are 6 numbers are  694\n",
      "total even numbers are 7 numbers are  474\n",
      "total even numbers are 8 numbers are  820\n",
      "total even numbers are 9 numbers are  174\n",
      "total even numbers are 10 numbers are  420\n",
      "total even numbers are 11 numbers are  226\n",
      "total even numbers are 12 numbers are  796\n",
      "total even numbers are 13 numbers are  412\n",
      "total even numbers are 14 numbers are  844\n",
      "total even numbers are 15 numbers are  280\n",
      "total even numbers are 16 numbers are  248\n",
      "total even numbers are 17 numbers are  734\n",
      "total even numbers are 18 numbers are  782\n",
      "total even numbers are 19 numbers are  140\n",
      "total even numbers are 20 numbers are  186\n",
      "total even numbers are 21 numbers are  506\n",
      "total even numbers are 22 numbers are  254\n",
      "total even numbers are 23 numbers are  226\n",
      "total even numbers are 24 numbers are  746\n",
      "total even numbers are 25 numbers are  440\n",
      "total even numbers are 26 numbers are  576\n",
      "total even numbers are 27 numbers are  686\n",
      "total even numbers are 28 numbers are  748\n",
      "total even numbers are 29 numbers are  430\n",
      "total even numbers are 30 numbers are  704\n",
      "total even numbers are 31 numbers are  228\n",
      "total even numbers are 32 numbers are  434\n",
      "total even numbers are 33 numbers are  678\n",
      "total even numbers are 34 numbers are  332\n",
      "total even numbers are 35 numbers are  648\n",
      "total even numbers are 36 numbers are  400\n",
      "total even numbers are 37 numbers are  560\n",
      "total even numbers are 38 numbers are  780\n",
      "total even numbers are 39 numbers are  164\n",
      "total even numbers are 40 numbers are  682\n",
      "total even numbers are 41 numbers are  826\n",
      "total even numbers are 42 numbers are  200\n",
      "total even numbers are 43 numbers are  456\n",
      "total even numbers are 44 numbers are  404\n",
      "total even numbers are 45 numbers are  424\n",
      "total even numbers are 46 numbers are  490\n",
      "total even numbers are 47 numbers are  680\n",
      "the prime numbers are:\n",
      "total prime numbers are 1 numbers are  827\n",
      "total prime numbers are 2 numbers are  139\n",
      "total prime numbers are 3 numbers are  661\n",
      "total prime numbers are 4 numbers are  103\n",
      "total prime numbers are 5 numbers are  773\n",
      "total prime numbers are 6 numbers are  191\n",
      "total prime numbers are 7 numbers are  337\n",
      "total prime numbers are 8 numbers are  109\n",
      "total prime numbers are 9 numbers are  283\n",
      "total prime numbers are 10 numbers are  349\n",
      "total prime numbers are 11 numbers are  521\n",
      "total prime numbers are 12 numbers are  347\n",
      "total prime numbers are 13 numbers are  809\n",
      "total prime numbers are 14 numbers are  421\n",
      "total prime numbers are 15 numbers are  167\n",
      "total prime numbers are 16 numbers are  577\n"
     ]
    }
   ],
   "source": [
    "import random\n",
    "def isprime(num):\n",
    "    for i in range(2, num // 2 + 1):\n",
    "        if num % i == 0:\n",
    "            return False\n",
    "    return True  \n",
    "\n",
    "def isOdd(num):\n",
    "    return num % 2 != 0\n",
    "\n",
    "def iseven(num):\n",
    "    return num % 2 == 0\n",
    "\n",
    "randomlist=[]\n",
    "n=100\n",
    "\n",
    "for i in range(n):\n",
    "    randomlist.append(random.randint(100,900))\n",
    "\n",
    "print(randomlist)\n",
    "\n",
    "print (\"the odd numbers are :\")\n",
    "oddcount = 0\n",
    "for numbers in randomlist:\n",
    "    if isOdd(numbers):\n",
    "        oddcount += 1\n",
    "        print(\"total odd numbers are\",oddcount,\"numbers are \",numbers)\n",
    "\n",
    "print(\"the even numbers are:\")\n",
    "evencount = 0\n",
    "for number in randomlist:\n",
    "    if iseven(number):\n",
    "        evencount += 1\n",
    "        print(\"total even numbers are\",evencount,\"numbers are \",number)\n",
    "\n",
    "print(\"the prime numbers are:\")\n",
    "primecount = 0\n",
    "for numberr in randomlist:\n",
    "    if isprime(numberr):\n",
    "        primecount += 1\n",
    "        print(\"total prime numbers are\",primecount,\"numbers are \",numberr)\n",
    "    \n"
   ]
  },
  {
   "cell_type": "code",
   "execution_count": null,
   "id": "4d4d9613-33c0-416f-97a0-40db2f01dec7",
   "metadata": {},
   "outputs": [],
   "source": [
    "Q4"
   ]
  },
  {
   "cell_type": "code",
   "execution_count": 58,
   "id": "bb0f3a37-b0b1-425c-86e0-6676b6295bde",
   "metadata": {},
   "outputs": [
    {
     "name": "stdout",
     "output_type": "stream",
     "text": [
      "the union of A and B is ---> {34, 45, 78, 23, 56, 90}\n",
      "the intersection of A and B is ---> {90, 78}\n",
      "the symmetric difference of A and B is ---> {34, 45, 23, 56}\n",
      "Is A subset of B---> False\n",
      "Is B superset of A---> False\n"
     ]
    },
    {
     "name": "stdin",
     "output_type": "stream",
     "text": [
      "enter a score from set A ---> 78\n"
     ]
    },
    {
     "name": "stdout",
     "output_type": "stream",
     "text": [
      "updated score of A is ---> {56, 34, 90}\n"
     ]
    }
   ],
   "source": [
    "A={34,56,78,90}\n",
    "B={78,45,90,23}\n",
    "\n",
    "uniquescore=A.union(B)\n",
    "\n",
    "print(\"the union of A and B is --->\",uniquescore)\n",
    "\n",
    "commonscore=A.intersection(B)\n",
    "print(\"the intersection of A and B is --->\",commonscore)\n",
    "\n",
    "sdifference=A.symmetric_difference(B)\n",
    "print(\"the symmetric difference of A and B is --->\",sdifference)\n",
    "\n",
    "subset=A.issubset(B)\n",
    "superset=B.issuperset(A)\n",
    "print(\"Is A subset of B--->\",subset)\n",
    "print(\"Is B superset of A--->\",superset)\n",
    "\n",
    "x=int(input(\"enter a score from set A --->\"))\n",
    "if x in A:\n",
    "    A.remove(x)\n",
    "    print(\"updated score of A is --->\",A)\n",
    "else:\n",
    "    print(\"x is not present in A\")\n"
   ]
  },
  {
   "cell_type": "code",
   "execution_count": null,
   "id": "395ab5d5-f926-4cb4-b6c7-c4a30a41b2e1",
   "metadata": {},
   "outputs": [],
   "source": [
    "Q5"
   ]
  },
  {
   "cell_type": "code",
   "execution_count": 63,
   "id": "73edfd0c-52be-45f4-898d-4646c21bb8e6",
   "metadata": {},
   "outputs": [
    {
     "name": "stdout",
     "output_type": "stream",
     "text": [
      "{'name': 'surendra', 'age': 20, 'salary': 2800000, 'location': 'bengaluru'}\n"
     ]
    }
   ],
   "source": [
    "biodata = {\n",
    "    \"name\": \"surendra\",\n",
    "    \"age\": 20,\n",
    "    \"salary\": 2800000,\n",
    "    \"city\": \"bengaluru\"\n",
    "}\n",
    "\n",
    "biodata[\"location\"] = biodata.pop(\"city\")\n",
    "\n",
    "print(biodata)\n"
   ]
  },
  {
   "cell_type": "code",
   "execution_count": null,
   "id": "424e7bbd-4b8c-4117-b206-4a6bc720e484",
   "metadata": {},
   "outputs": [],
   "source": []
  }
 ],
 "metadata": {
  "kernelspec": {
   "display_name": "Python [conda env:base] *",
   "language": "python",
   "name": "conda-base-py"
  },
  "language_info": {
   "codemirror_mode": {
    "name": "ipython",
    "version": 3
   },
   "file_extension": ".py",
   "mimetype": "text/x-python",
   "name": "python",
   "nbconvert_exporter": "python",
   "pygments_lexer": "ipython3",
   "version": "3.12.7"
  }
 },
 "nbformat": 4,
 "nbformat_minor": 5
}
