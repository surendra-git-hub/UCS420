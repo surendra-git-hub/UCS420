{
 "cells": [
  {
   "cell_type": "code",
   "execution_count": null,
   "id": "7f9b281d-2ece-4b3f-aaca-c314ef7cabc3",
   "metadata": {},
   "outputs": [],
   "source": [
    "Python assignment \n",
    "Surendra 102317040"
   ]
  },
  {
   "cell_type": "code",
   "execution_count": null,
   "id": "a7facd99-24e7-4bf8-972d-fc427733326d",
   "metadata": {},
   "outputs": [],
   "source": [
    "A 1.1"
   ]
  },
  {
   "cell_type": "code",
   "execution_count": 18,
   "id": "88ac1a22-138e-482e-a796-ac61a324a81c",
   "metadata": {},
   "outputs": [
    {
     "name": "stdout",
     "output_type": "stream",
     "text": [
      "surendra\n",
      "surendra\n",
      "surendra\n"
     ]
    }
   ],
   "source": [
    "# program to print my name \n",
    "print(\"surendra\")\n",
    "print(\"surendra\")\n",
    "print(\"surendra\")"
   ]
  },
  {
   "cell_type": "code",
   "execution_count": null,
   "id": "3191e6b1-053e-4e8e-8390-645dc06fc0d9",
   "metadata": {},
   "outputs": [],
   "source": [
    "A 2.1"
   ]
  },
  {
   "cell_type": "code",
   "execution_count": 24,
   "id": "05c51fca-95a9-4d5c-a641-94a1173029be",
   "metadata": {},
   "outputs": [
    {
     "name": "stdout",
     "output_type": "stream",
     "text": [
      "10 + 20 + 30 --> 60\n"
     ]
    }
   ],
   "source": [
    "# program to add three numbers\n",
    "a=10\n",
    "b=20\n",
    "c=30\n",
    "d=a+b+c\n",
    "print(a,\"+\",b,\"+\",c ,\"-->\",d)\n"
   ]
  },
  {
   "cell_type": "code",
   "execution_count": null,
   "id": "4b0fb119-daf1-4cb7-bf79-2359eb153031",
   "metadata": {},
   "outputs": [],
   "source": [
    "A 2.2"
   ]
  },
  {
   "cell_type": "code",
   "execution_count": 32,
   "id": "dbe18488-150e-4ba4-89a5-9dab6fbaab68",
   "metadata": {},
   "outputs": [
    {
     "name": "stdout",
     "output_type": "stream",
     "text": [
      "Python  + is  + easy --> Python is easy\n"
     ]
    }
   ],
   "source": [
    "#program to concatinate three strings\n",
    "d=\"Python \"\n",
    "e=\"is \"\n",
    "f=\"easy\"\n",
    "g=d+e+f\n",
    "\n",
    "print(d,\"+\",e,\"+\",f ,\"-->\",g)\n"
   ]
  },
  {
   "cell_type": "code",
   "execution_count": null,
   "id": "3d777e3b-77a2-49f8-ae1f-dc948ed969e5",
   "metadata": {},
   "outputs": [],
   "source": [
    "A 4.1"
   ]
  },
  {
   "cell_type": "code",
   "execution_count": 41,
   "id": "f1653507-5032-4873-b838-4b4d0362d82e",
   "metadata": {},
   "outputs": [
    {
     "name": "stdout",
     "output_type": "stream",
     "text": [
      "7 * 1 = 7\n",
      "7 * 2 = 14\n",
      "7 * 3 = 21\n",
      "7 * 4 = 28\n",
      "7 * 5 = 35\n",
      "7 * 6 = 42\n",
      "7 * 7 = 49\n",
      "7 * 8 = 56\n",
      "7 * 9 = 63\n",
      "7 * 10 = 70\n"
     ]
    }
   ],
   "source": [
    "# program to print the table of 7\n",
    "for i in range(1,11):\n",
    "    print( 7,\"*\",i,\"=\",i*7 )"
   ]
  },
  {
   "cell_type": "code",
   "execution_count": null,
   "id": "2f068094-baba-48d3-bcfd-e71044b6601f",
   "metadata": {},
   "outputs": [],
   "source": [
    "A 4.2"
   ]
  },
  {
   "cell_type": "code",
   "execution_count": 54,
   "id": "d7943a19-34ec-4356-b8a5-a66ee616c4cb",
   "metadata": {},
   "outputs": [
    {
     "name": "stdout",
     "output_type": "stream",
     "text": [
      "Enter the n ---> 29\n"
     ]
    },
    {
     "name": "stdout",
     "output_type": "stream",
     "text": [
      "29 * 1 = 29\n",
      "29 * 2 = 58\n",
      "29 * 3 = 87\n",
      "29 * 4 = 116\n",
      "29 * 5 = 145\n",
      "29 * 6 = 174\n",
      "29 * 7 = 203\n",
      "29 * 8 = 232\n",
      "29 * 9 = 261\n",
      "29 * 10 = 290\n"
     ]
    }
   ],
   "source": [
    "#program to print the table of given input\n",
    "n=int(input( \"Enter the n --->\" ) ) \n",
    "for i in range(1,11):\n",
    "    print( n,\"*\",i,\"=\",i*n )"
   ]
  },
  {
   "cell_type": "code",
   "execution_count": null,
   "id": "4c29528a-b490-443c-94d1-051d7841e8c6",
   "metadata": {},
   "outputs": [],
   "source": [
    "A 4.3"
   ]
  },
  {
   "cell_type": "code",
   "execution_count": 50,
   "id": "cb8ddb1a-9ecf-4737-bdd0-1fe5007f58a9",
   "metadata": {},
   "outputs": [
    {
     "name": "stdout",
     "output_type": "stream",
     "text": [
      "Enter the n ---> 100\n"
     ]
    },
    {
     "name": "stdout",
     "output_type": "stream",
     "text": [
      "sum is ---> 5050\n"
     ]
    }
   ],
   "source": [
    "n=int(input( \"Enter the n --->\" ) )\n",
    "sum=0\n",
    "for i in range(1,n+1):\n",
    "    sum=sum+i\n",
    "\n",
    "print(\"sum is --->\",sum )\n",
    "    "
   ]
  },
  {
   "cell_type": "code",
   "execution_count": null,
   "id": "d176c616-b341-4bae-bc9c-a357c426a8da",
   "metadata": {},
   "outputs": [],
   "source": [
    "A 5.1"
   ]
  },
  {
   "cell_type": "code",
   "execution_count": 11,
   "id": "553ce634-91bc-4139-b3bc-ab263ab398c6",
   "metadata": {},
   "outputs": [
    {
     "name": "stdout",
     "output_type": "stream",
     "text": [
      "Enter First No:  11\n",
      "Enter Second No:  22\n",
      "Enter Third No:  33\n"
     ]
    },
    {
     "name": "stdout",
     "output_type": "stream",
     "text": [
      "the biggest number is--->  33\n"
     ]
    }
   ],
   "source": [
    "#program to find max element\n",
    "a = int(input(\"Enter First No: \"))\n",
    "b = int(input(\"Enter Second No: \")) \n",
    "c = int(input(\"Enter Third No: \"))\n",
    "print(\"the biggest number is---> \", max(a,b,c))"
   ]
  },
  {
   "cell_type": "code",
   "execution_count": null,
   "id": "7129d122-e6b0-4a3b-bdaf-871467ced98b",
   "metadata": {},
   "outputs": [],
   "source": [
    "A 5.2"
   ]
  },
  {
   "cell_type": "code",
   "execution_count": 22,
   "id": "20f7ea45-c55e-4958-88a3-6e1a06a5b9ec",
   "metadata": {},
   "outputs": [
    {
     "name": "stdout",
     "output_type": "stream",
     "text": [
      "Enter the n : 101\n"
     ]
    },
    {
     "name": "stdout",
     "output_type": "stream",
     "text": [
      "the sum of numbers divisible 7 and 9 is 63\n"
     ]
    }
   ],
   "source": [
    "#program to add numbers divisible by 7 and 9\n",
    "sum=0\n",
    "n=int(input(\"Enter the n :\"))\n",
    "for i in range(1,n+1):\n",
    "    if i % 7 == 0 and i % 9 == 0:\n",
    "        sum=sum+i\n",
    "\n",
    "print(\"the sum of numbers divisible 7 and 9 is\",sum)\n",
    "        "
   ]
  },
  {
   "cell_type": "code",
   "execution_count": null,
   "id": "1b1bdbb0-4632-4b81-95da-42d021df090c",
   "metadata": {},
   "outputs": [],
   "source": [
    "A 5.3"
   ]
  },
  {
   "cell_type": "code",
   "execution_count": 44,
   "id": "c0002363-eadb-4110-8007-6d2b3efe8e63",
   "metadata": {},
   "outputs": [
    {
     "name": "stdout",
     "output_type": "stream",
     "text": [
      "Enter the n:  100\n"
     ]
    },
    {
     "name": "stdout",
     "output_type": "stream",
     "text": [
      "The sum of all prime numbers from 1 to 100 is ---> 1060\n"
     ]
    }
   ],
   "source": [
    "sum = 0\n",
    "n = int(input(\"Enter the n: \"))\n",
    "for num in range(2, n + 1):\n",
    "    is_prime = True\n",
    "    for i in range(2, num // 2 + 1):\n",
    "        if num % i == 0:\n",
    "            is_prime = False\n",
    "            break\n",
    "    if is_prime:\n",
    "        sum += num\n",
    "\n",
    "print(\"The sum of all prime numbers from 1 to\", n, \"is --->\", sum)"
   ]
  },
  {
   "cell_type": "code",
   "execution_count": null,
   "id": "fcffe5bf-fe43-4878-8d41-71f7975097b2",
   "metadata": {},
   "outputs": [],
   "source": [
    "A 6.1"
   ]
  },
  {
   "cell_type": "code",
   "execution_count": 40,
   "id": "bdf3aa46-ffd6-46ad-93ce-72f7201a1955",
   "metadata": {},
   "outputs": [
    {
     "name": "stdout",
     "output_type": "stream",
     "text": [
      "Enter the n:  100\n"
     ]
    },
    {
     "name": "stdout",
     "output_type": "stream",
     "text": [
      "The sum of all odd number from 1 to 100 is ---> 2500\n"
     ]
    }
   ],
   "source": [
    "#program to calculate sum of odd numbers from 1 to n\n",
    "n = int(input(\"Enter the n: \"))\n",
    "sum=0\n",
    "def isOdd(num):\n",
    "    return num % 2 != 0\n",
    "for i in range(1, n + 1):\n",
    "    if isOdd(i):\n",
    "        sum += i\n",
    "\n",
    "print(\"The sum of all odd number from 1 to\", n, \"is --->\", sum)\n",
    "\n",
    "\n"
   ]
  },
  {
   "cell_type": "code",
   "execution_count": null,
   "id": "0c6933bf-dbfe-4702-a979-0965aac1a9e2",
   "metadata": {},
   "outputs": [],
   "source": [
    "A 6.2"
   ]
  },
  {
   "cell_type": "code",
   "execution_count": 42,
   "id": "408c6ea4-755f-487f-b8ce-f912799c15e7",
   "metadata": {},
   "outputs": [
    {
     "name": "stdout",
     "output_type": "stream",
     "text": [
      "Enter the n:  100\n"
     ]
    },
    {
     "name": "stdout",
     "output_type": "stream",
     "text": [
      "The sum of all prime numbers from 1 to 100 is ---> 1060\n"
     ]
    }
   ],
   "source": [
    "# Program to add all prime numbers\n",
    "sum = 0\n",
    "n = int(input(\"Enter the n: \"))\n",
    "def isprime(num):\n",
    "    if num < 2:\n",
    "        return False\n",
    "    for i in range(2, num // 2 + 1):\n",
    "        if num % i == 0:\n",
    "            return False\n",
    "    return True  \n",
    "\n",
    "for i in range(1, n + 1):\n",
    "    if isprime(i):\n",
    "        sum += i\n",
    "\n",
    "print(\"The sum of all prime numbers from 1 to\", n, \"is --->\", sum)"
   ]
  }
 ],
 "metadata": {
  "kernelspec": {
   "display_name": "Python [conda env:base] *",
   "language": "python",
   "name": "conda-base-py"
  },
  "language_info": {
   "codemirror_mode": {
    "name": "ipython",
    "version": 3
   },
   "file_extension": ".py",
   "mimetype": "text/x-python",
   "name": "python",
   "nbconvert_exporter": "python",
   "pygments_lexer": "ipython3",
   "version": "3.12.7"
  }
 },
 "nbformat": 4,
 "nbformat_minor": 5
}
