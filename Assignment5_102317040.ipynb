{
 "cells": [
  {
   "cell_type": "code",
   "execution_count": null,
   "id": "33dc9aec-f38d-410a-a138-3c6831319bc1",
   "metadata": {},
   "outputs": [],
   "source": []
  },
  {
   "cell_type": "code",
   "execution_count": 10,
   "id": "b6af7c90-bbd4-4a6a-a3a0-a867b98e8795",
   "metadata": {},
   "outputs": [
    {
     "name": "stdout",
     "output_type": "stream",
     "text": [
      "45\n",
      "[[14]\n",
      " [16]\n",
      " [15]]\n",
      "[[20  9 16]]\n"
     ]
    }
   ],
   "source": [
    "import numpy as np\n",
    "gfg = np.matrix('[4,1,9;12,3,1;4,5,6]')\n",
    "\n",
    "total_sum=np.sum(gfg)\n",
    "row_sum=np.sum(gfg,axis=1)\n",
    "column_sum=np.sum(gfg,axis=0)\n",
    "\n",
    "print(total_sum)\n",
    "print(row_sum)\n",
    "print(column_sum)\n",
    "\n"
   ]
  },
  {
   "cell_type": "code",
   "execution_count": null,
   "id": "00a54972-1b32-4405-8f88-711644d436f1",
   "metadata": {},
   "outputs": [],
   "source": []
  },
  {
   "cell_type": "code",
   "execution_count": 20,
   "id": "97e12475-a7fb-4e62-929a-0775b3a97b86",
   "metadata": {},
   "outputs": [
    {
     "name": "stdout",
     "output_type": "stream",
     "text": [
      "Sorted array: [ 10  16  16  52  54  62 453]\n",
      "Indices of sorted array: [0 3 4 1 5 2 6]\n",
      "4 smallest elements: [10 16 16 52]\n",
      "5 largest elements: [ 16  52  54  62 453]\n"
     ]
    }
   ],
   "source": [
    "import numpy as np\n",
    "array= np.array([10,52,62,16,16,54,453])\n",
    "\n",
    "sorted_array=np.sort(array)\n",
    "sorted_indices=np.argsort(array)\n",
    "smallest_elements=np.sort(array)[:4]\n",
    "largest_elements=np.sort(array)[-5:]\n",
    "\n",
    "print(\"Sorted array:\", sorted_array)\n",
    "print(\"Indices of sorted array:\", sorted_indices)\n",
    "print(\"4 smallest elements:\", smallest_elements)\n",
    "print(\"5 largest elements:\", largest_elements)\n"
   ]
  },
  {
   "cell_type": "code",
   "execution_count": null,
   "id": "9b063edc-f19f-4bc0-93d1-a7d99d2c3568",
   "metadata": {},
   "outputs": [],
   "source": []
  },
  {
   "cell_type": "code",
   "execution_count": 32,
   "id": "f350febf-6641-4f81-b07f-ede13767c8c7",
   "metadata": {},
   "outputs": [
    {
     "name": "stdout",
     "output_type": "stream",
     "text": [
      "[1. 2. 3. 2.]\n",
      "[1.2 2.2]\n"
     ]
    }
   ],
   "source": [
    "import numpy as np\n",
    "array = np.array([1.0, 1.2, 2.2, 2.0, 3.0, 2.0])\n",
    "\n",
    "integer_element = array[np.floor(array) == array]\n",
    "float_element =array[np.floor(array) != array]\n",
    "\n",
    "print(integer_element)\n",
    "print(float_element)"
   ]
  },
  {
   "cell_type": "code",
   "execution_count": null,
   "id": "2839cc47-b710-4f37-95a3-55722952a4f6",
   "metadata": {},
   "outputs": [],
   "source": []
  },
  {
   "cell_type": "code",
   "execution_count": 34,
   "id": "644d233c-5aa9-43b1-86e8-d3c5bdc49789",
   "metadata": {},
   "outputs": [
    {
     "name": "stdout",
     "output_type": "stream",
     "text": [
      "Sales Array: [153 203 253 303 353]\n",
      "Tax Rate: 0.08\n",
      "Tax Amount: [12.24 16.24 20.24 24.24 28.24]\n",
      "Discounted Sales: [145.35 192.85 227.7  272.7  317.7 ]\n",
      "Weekly Sales:\n",
      " [[145.35  192.85  227.7   272.7   317.7  ]\n",
      " [148.257 196.707 232.254 278.154 324.054]\n",
      " [151.164 200.564 236.808 283.608 330.408]]\n"
     ]
    }
   ],
   "source": [
    "\n",
    "import numpy as np\n",
    "\n",
    "X = ord('R') + ord('G') \n",
    "sales = np.array([X, X+50, X+100, X+150, X+200])\n",
    "\n",
    "tax_rate = ((X % 5) + 5) / 100\n",
    "tax_amount = sales * tax_rate\n",
    "\n",
    "discounted_sales = np.where(sales < X+100, sales * 0.95, sales * 0.90)\n",
    "\n",
    "weeks = 3\n",
    "weekly_sales = np.vstack([discounted_sales * (1 + i * 0.02) for i in range(weeks)])\n",
    "\n",
    "# Print results\n",
    "print(\"Sales Array:\", sales)\n",
    "print(\"Tax Rate:\", tax_rate)\n",
    "print(\"Tax Amount:\", tax_amount)\n",
    "print(\"Discounted Sales:\", discounted_sales)\n",
    "print(\"Weekly Sales:\\n\", weekly_sales)\n",
    "\n"
   ]
  },
  {
   "cell_type": "code",
   "execution_count": null,
   "id": "081a8cd6-20f5-4a88-8c78-62f39af0f7f6",
   "metadata": {},
   "outputs": [],
   "source": []
  },
  {
   "cell_type": "code",
   "execution_count": null,
   "id": "f3738213-e0fe-4e5b-ae37-0e2903e86bda",
   "metadata": {},
   "outputs": [],
   "source": [
    "import numpy as np\n",
    "import matplotlib.pyplot as plt\n",
    "\n",
    "x = np.linspace(-10, 10, 100)\n",
    "\n",
    "y_square = x**2\n",
    "y_sin = np.sin(x)\n",
    "y_exp = np.exp(x)\n",
    "y_log = np.log(np.abs(x) + 1)\n",
    "\n",
    "plt.figure(figsize=(10, 6))\n",
    "\n",
    "plt.plot(x, y_square, label=r'y=x^2\n",
    "', color='blue', linewidth=2)\n",
    "plt.plot(x, y_sin, label=r'y=sin(x)\n",
    "', color='red', linewidth=2)\n",
    "plt.plot(x, y_exp, label=r'y=e^x\n",
    "', color='green', linewidth=2)\n",
    "plt.plot(x, y_log, label=r'y=log(|x98)\n",
    "', color='purple', linewidth=2)\n",
    "\n",
    "plt.ylim(-5, 50)\n",
    "\n",
    "plt.title(\"Plots of Various Functions\", fontsize=14)\n",
    "plt.xlabel(\"x values\", fontsize=12)\n",
    "plt.ylabel(\"y values\", fontsize=12)\n",
    "plt.axhline(0, color='black', linewidth=0.8)\n",
    "plt.axvline(0, color='black', linewidth=0.8)\n",
    "plt.grid(True, linestyle='--', alpha=0.6)\n",
    "plt.legend()\n",
    "plt.show()"
   ]
  },
  {
   "cell_type": "code",
   "execution_count": null,
   "id": "1c21e79c-46fa-44a3-9e68-2543486aadd4",
   "metadata": {},
   "outputs": [],
   "source": []
  }
 ],
 "metadata": {
  "kernelspec": {
   "display_name": "Python [conda env:base] *",
   "language": "python",
   "name": "conda-base-py"
  },
  "language_info": {
   "codemirror_mode": {
    "name": "ipython",
    "version": 3
   },
   "file_extension": ".py",
   "mimetype": "text/x-python",
   "name": "python",
   "nbconvert_exporter": "python",
   "pygments_lexer": "ipython3",
   "version": "3.12.7"
  }
 },
 "nbformat": 4,
 "nbformat_minor": 5
}
